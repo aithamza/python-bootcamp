{
  "cells": [
    {
      "cell_type": "markdown",
      "metadata": {
        "id": "0d3LquKyNBul"
      },
      "source": [
        "# Assessment test "
      ]
    },
    {
      "cell_type": "markdown",
      "metadata": {
        "id": "B9_nXmBFNBus"
      },
      "source": [
        "## Exercise 1: \n",
        "\n",
        "What is a correct syntax to output \"Hello World\" in Python?\n",
        "\n",
        "1. print(\"Hello World\")\n",
        "2. echo(\"Hello World\")\n",
        "3. p(\"Hello World\")\n",
        "4. printf(\"Hello World\")\n",
        "\n",
        "\n",
        "\n",
        "**You answer here**"
      ]
    },
    {
      "cell_type": "code",
      "source": [
        "print(\"Hello World\")"
      ],
      "metadata": {
        "id": "BcFNWDTUNL77",
        "outputId": "23475f3e-93e6-4477-cce7-3095c9708481",
        "colab": {
          "base_uri": "https://localhost:8080/"
        }
      },
      "execution_count": 1,
      "outputs": [
        {
          "output_type": "stream",
          "name": "stdout",
          "text": [
            "Hello World\n"
          ]
        }
      ]
    },
    {
      "cell_type": "markdown",
      "metadata": {
        "id": "pMSTklGhNBuu"
      },
      "source": [
        "## Exercise 2:\n",
        "\n",
        "Which one is NOT a legal variable name?\n",
        "\n",
        "1. Myvar\n",
        "2. _myvar\n",
        "**3. my-var**\n",
        "4. my_var\n",
        "\n",
        "**Your answer here**\n",
        "\n",
        " my-var"
      ]
    },
    {
      "cell_type": "markdown",
      "metadata": {
        "id": "6FJ2gFaHNBuw"
      },
      "source": [
        "## Exercise 3: range()\n",
        "\n",
        "Use range() to print all the even numbers from 0 to 10."
      ]
    },
    {
      "cell_type": "code",
      "execution_count": 4,
      "metadata": {
        "id": "yf2rVcDHNBuy",
        "outputId": "b7eb3692-fbe7-4c84-c00e-8468ad7b1a09",
        "colab": {
          "base_uri": "https://localhost:8080/"
        }
      },
      "outputs": [
        {
          "output_type": "stream",
          "name": "stdout",
          "text": [
            "0\n",
            "2\n",
            "4\n",
            "6\n",
            "8\n",
            "10\n"
          ]
        }
      ],
      "source": [
        "# Your code here\n",
        "\n",
        "for i in range(0,11):\n",
        "  if(i % 2 == 0):\n",
        "    print(i)"
      ]
    },
    {
      "cell_type": "markdown",
      "metadata": {
        "id": "UIIjN_ljNBu1"
      },
      "source": [
        "## Exercise 4: list\n",
        "\n",
        "\n",
        "```python\n",
        ">>> arr = [\"Car\", \"Fruit\", 1]\n",
        "```\n",
        "\n",
        "1. Add element at the top of the list `arr`\n",
        "2. Add element at the end of the list `arr`\n",
        "3. remove element \"Car\" from the list"
      ]
    },
    {
      "cell_type": "code",
      "execution_count": 6,
      "metadata": {
        "id": "yquDkTrhNBu2"
      },
      "outputs": [],
      "source": [
        "# Your code here\n",
        "arr = [\"Car\", \"Fruit\", 1]\n",
        "arr.append('appl')\n"
      ]
    },
    {
      "cell_type": "markdown",
      "metadata": {
        "id": "k3EoQ9-DNBu3"
      },
      "source": [
        "## Exercise 5: slicing\n",
        "\n",
        "```python\n",
        ">>> arr = [0, 1, 2, 3, 4, 5, 6, 7, 8, 9, 10, 11, 12, 13, 14, 15, 16, 17, 18, 19]\n",
        "```\n",
        "1. Print the first 10 elements\n",
        "2. Print the last 10 elements \n",
        "3. Print the elements between indices 3 and 7\n",
        "4. Print the elements at odd positions"
      ]
    },
    {
      "cell_type": "code",
      "execution_count": null,
      "metadata": {
        "id": "pqYpkQ9ANBu4"
      },
      "outputs": [],
      "source": [
        "# Your code here"
      ]
    },
    {
      "cell_type": "markdown",
      "metadata": {
        "id": "FMXVFPWgNBu6"
      },
      "source": [
        "## Exercise 6: List comprehension\n",
        "\n",
        "Use List comprehension to create a list of all numbers between 1 and 50 that are divisible by 3."
      ]
    },
    {
      "cell_type": "code",
      "execution_count": null,
      "metadata": {
        "id": "nkaAT55wNBu7"
      },
      "outputs": [],
      "source": [
        "# Your code here"
      ]
    },
    {
      "cell_type": "markdown",
      "metadata": {
        "id": "3jYNS6cxNBu8"
      },
      "source": [
        "## Exercise 7: string\n",
        "\n",
        "Go through the string below and if the length of a word is even print \"even!\"\n",
        "```python\n",
        ">>> st = 'Print every word in this sentence that has an even number of letters'\n",
        "```"
      ]
    },
    {
      "cell_type": "code",
      "execution_count": null,
      "metadata": {
        "id": "w1QqzKMtNBu9"
      },
      "outputs": [],
      "source": [
        "# Your code here"
      ]
    },
    {
      "cell_type": "markdown",
      "metadata": {
        "id": "OkOKn6SjNBu9"
      },
      "source": [
        "## Exercise 8: string\n",
        "\n",
        "Write a program that prints the integers from 1 to 100. But for multiples of three print \"Fizz\" instead of the number, and for the multiples of five print \"Buzz\". For numbers which are multiples of both three and five print \"FizzBuzz\"."
      ]
    },
    {
      "cell_type": "code",
      "execution_count": null,
      "metadata": {
        "id": "7aZtQlzNNBu-"
      },
      "outputs": [],
      "source": [
        "# Your code here"
      ]
    },
    {
      "cell_type": "markdown",
      "metadata": {
        "id": "Vknz9GORNBu_"
      },
      "source": [
        "## Exercise 9: conditions\n",
        "\n",
        "1. Compute the odd number squares sum of `arr`\n",
        "\n",
        "```python\n",
        ">>> arr = [0, 1, 2, 3, 4, 5, 6, 7, 8, 9, 10, 11, 12, 13, 14, 15, 16, 17, 18, 19]\n",
        "```\n",
        "\n",
        "2. Compute the solution of $ax^2 + bx + c = 0$\n",
        "    - a, b, and c are given by the user"
      ]
    },
    {
      "cell_type": "code",
      "execution_count": null,
      "metadata": {
        "id": "HKsLJguoNBu_"
      },
      "outputs": [],
      "source": [
        "# Your code here"
      ]
    },
    {
      "cell_type": "markdown",
      "metadata": {
        "id": "ih2TNrnyNBvA"
      },
      "source": [
        "## Exercise 10: Numpy\n",
        "\n",
        "1. Define 2 matrices using numpy\n",
        "\n",
        "![matrix](https://github.com/aithamza/python-bootcamp/blob/main/day_01/data/matrix.png?raw=1)\n",
        "\n",
        "2. Compute the multiplication of the 2 matrices\n",
        "\n",
        "3. Print the result"
      ]
    },
    {
      "cell_type": "code",
      "execution_count": null,
      "metadata": {
        "id": "luimNI_hNBvB"
      },
      "outputs": [],
      "source": [
        "# Your code here"
      ]
    },
    {
      "cell_type": "markdown",
      "metadata": {
        "id": "IvaKU1kmNBvB"
      },
      "source": [
        "## Exercise 11: functions\n",
        "\n",
        "1. Write function that compute the max of 2 given numbers\n",
        "2. Call the function with 2 numbers of your choice"
      ]
    },
    {
      "cell_type": "code",
      "execution_count": null,
      "metadata": {
        "id": "jN006TBZNBvB"
      },
      "outputs": [],
      "source": [
        "# Your code here"
      ]
    },
    {
      "cell_type": "markdown",
      "metadata": {
        "id": "PyG_ArvvNBvB"
      },
      "source": [
        "## Exercise 12: Matplotlib\n",
        " \n",
        "1. Write a Python program that will create the plot bellow\n",
        "![plot](https://github.com/aithamza/python-bootcamp/blob/main/day_01/data/matplotlib.png?raw=1)"
      ]
    },
    {
      "cell_type": "code",
      "execution_count": null,
      "metadata": {
        "id": "O4OCbuBKNBvC"
      },
      "outputs": [],
      "source": [
        "# Your code here"
      ]
    },
    {
      "cell_type": "markdown",
      "metadata": {
        "id": "7kf8bJoWNBvC"
      },
      "source": [
        "## Exercise 13: pandas\n",
        "\n",
        "1. Use pandas library to read the csv file 'data.csv' (located at data repository)\n",
        "2. Print the first 10 rows for the file\n",
        "3. Print the values of 'diagnosis' column"
      ]
    },
    {
      "cell_type": "code",
      "execution_count": null,
      "metadata": {
        "id": "_lYZbwizNBvD"
      },
      "outputs": [],
      "source": [
        "# Your code here"
      ]
    }
  ],
  "metadata": {
    "hide_input": false,
    "kernelspec": {
      "display_name": "Python 3",
      "language": "python",
      "name": "python3"
    },
    "language_info": {
      "codemirror_mode": {
        "name": "ipython",
        "version": 3
      },
      "file_extension": ".py",
      "mimetype": "text/x-python",
      "name": "python",
      "nbconvert_exporter": "python",
      "pygments_lexer": "ipython3",
      "version": "3.8.5"
    },
    "colab": {
      "provenance": []
    }
  },
  "nbformat": 4,
  "nbformat_minor": 0
}